{
 "cells": [
  {
   "cell_type": "code",
   "execution_count": 1,
   "metadata": {},
   "outputs": [],
   "source": [
    "import turtle as t\n",
    "import math\n",
    "import time"
   ]
  },
  {
   "cell_type": "code",
   "execution_count": 6,
   "metadata": {},
   "outputs": [],
   "source": [
    "R=6378000\n",
    "R_diagram=100"
   ]
  },
  {
   "cell_type": "code",
   "execution_count": 7,
   "metadata": {},
   "outputs": [],
   "source": [
    "class Projectile:\n",
    "    def __init__(self, x, y, ui, uj, ai=0, aj=0, mass=1):\n",
    "        self.x = x\n",
    "        self.y = y\n",
    "        self.ui = ui\n",
    "        self.uj = uj\n",
    "        self.ai = ai\n",
    "        self.aj = aj\n",
    "    \n",
    "    def set_position(self, dx, dy):#input scaled values\n",
    "        self.x += dx\n",
    "        self.y += dy\n",
    "        \n",
    "    def set_velocity(self, dvi, dvj):\n",
    "        self.ui = dvi\n",
    "        self.uj = dvj\n",
    "    \n",
    "    #only use this when projectile has acceleration without external forces\n",
    "    def set_acc(self, dai, daj):\n",
    "        self.ai += dai\n",
    "        self.aj += daj\n",
    "        \n",
    "    def calculate(self, gi, gj, dt):\n",
    "        si= self.ui*dt + 0.5*gi*dt*dt\n",
    "        sj= self.uj*dt + 0.5*gj*dt*dt\n",
    "        \n",
    "        vi= self.ui + gi*dt\n",
    "        vj= self.uj + gj*dt\n",
    "        \n",
    "        return si,sj,vi,vj #output unscaled values\n",
    "    \n",
    "    def gravity(self, x1, y1, m1):\n",
    "        x2=0\n",
    "        y2=0\n",
    "        m2=5.972 * math.pow(10,24)\n",
    "        s= math.sqrt((x2-x1)*(x2-x1) + (y2-y1)*(y2-y1))\n",
    "        #scaling s\n",
    "        s*=R/R_diagram\n",
    "        print(\"displacement=\",s)\n",
    "        f=6.674*math.pow(10,-11)*m1*m2/(s*s)\n",
    "        g=f/m1\n",
    "        print(\"g=\",g)\n",
    "        #negative sign to give proper direction to gravitational acceleration\n",
    "        gi=-(x1-x2)*g/math.sqrt((x2-x1)*(x2-x1) + (y2-y1)*(y2-y1))\n",
    "        gj=-(y1-y2)*g/math.sqrt((x2-x1)*(x2-x1) + (y2-y1)*(y2-y1))\n",
    "        \n",
    "        return gi, gj"
   ]
  },
  {
   "cell_type": "code",
   "execution_count": null,
   "metadata": {
    "scrolled": true
   },
   "outputs": [],
   "source": [
    "def main():\n",
    "    tim=t.Turtle()\n",
    "    \n",
    "    tim.penup()\n",
    "    \n",
    "    tim.goto(R_diagram,0)\n",
    "    tim.setheading(90)\n",
    "    tim.pendown()\n",
    "    tim.speed('fast')\n",
    "    tim.circle(R_diagram)\n",
    "    vi,vj=initial(2000,8000,1,1)\n",
    "#     vi,vj=initial(1,7884,1,1)\n",
    "    p=Projectile(R_diagram,0,vi,vj)\n",
    "    print(p.x,p.y,p.ui,p.uj)\n",
    "    tim.penup()\n",
    "    tim.ht()\n",
    "    while (p.x*p.x + p.y*p.y)>=(R_diagram*R_diagram):\n",
    "        tim.goto(p.x,p.y)\n",
    "        tim.dot()\n",
    "#         time.sleep(0.001)\n",
    "        gi, gj=p.gravity(x1=p.x,y1=p.y,m1=1)\n",
    "        print(\"gi,gj=\",gi,gj)\n",
    "        si,sj,vi,vj=p.calculate(gi,gj,90)\n",
    "        print(\"si,sj=\",si,sj)\n",
    "        #scaling displacement\n",
    "        si*=R_diagram/R\n",
    "        sj*=R_diagram/R\n",
    "#         print(\"dx=\",si)\n",
    "#         print(\"dy=\",sj)\n",
    "        p.set_position(si,sj)\n",
    "        p.set_velocity(vi,vj)\n",
    "#         break\n",
    "    \n",
    "    screen=t.Screen()\n",
    "    screen.exitonclick()\n",
    "main()"
   ]
  },
  {
   "cell_type": "code",
   "execution_count": 4,
   "metadata": {},
   "outputs": [],
   "source": [
    "def initial(fi, fj, m, dt):\n",
    "    ai=fi/m\n",
    "    aj=fj/m\n",
    "    vi=ai*dt\n",
    "    vj=aj*dt\n",
    "    return vi,vj"
   ]
  },
  {
   "cell_type": "code",
   "execution_count": null,
   "metadata": {},
   "outputs": [],
   "source": []
  }
 ],
 "metadata": {
  "kernelspec": {
   "display_name": "venv",
   "language": "python",
   "name": "venv"
  },
  "language_info": {
   "codemirror_mode": {
    "name": "ipython",
    "version": 3
   },
   "file_extension": ".py",
   "mimetype": "text/x-python",
   "name": "python",
   "nbconvert_exporter": "python",
   "pygments_lexer": "ipython3",
   "version": "3.7.6"
  }
 },
 "nbformat": 4,
 "nbformat_minor": 4
}
